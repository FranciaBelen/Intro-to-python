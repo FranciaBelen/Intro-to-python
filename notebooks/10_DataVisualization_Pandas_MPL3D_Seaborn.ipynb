{
 "cells": [
  {
   "cell_type": "markdown",
   "metadata": {},
   "source": [
    "Segunda semana de data visualization. Vamos empezar con subir datos que me dieron en el google drive. Habre esta carpeta: https://drive.google.com/file/d/1fMes8B6Q6ml7G5Mkzv7zTb8j3SZ_ZVkH/view?usp=sharing\n",
    "y baja los set de datos 'CleanedUpCoreData_kml.csv'."
   ]
  },
  {
   "cell_type": "code",
   "execution_count": null,
   "metadata": {},
   "outputs": [],
   "source": [
    "import pandas as pd\n",
    "import matplotlib.pyplot as plt\n",
    "import seaborn as sns\n",
    "print(\"Setup Complete\")"
   ]
  },
  {
   "cell_type": "code",
   "execution_count": null,
   "metadata": {},
   "outputs": [],
   "source": [
    "CleanedUpCoreData = pd.read_csv('/Users/isamarcortes/Downloads/CleanedUpCoreData_klm.csv')\n",
    "CleanedUpCoreData.head()\n",
    "#type(CleanedUpCoreData) #Que creen que hace esta linea?"
   ]
  },
  {
   "cell_type": "code",
   "execution_count": null,
   "metadata": {},
   "outputs": [],
   "source": [
    "#plotting from the data frame\n",
    "CleanedUpCoreData.plot(x='Depth',y='TOC',marker=\"v\",markersize = 2,label='test')"
   ]
  },
  {
   "cell_type": "code",
   "execution_count": null,
   "metadata": {},
   "outputs": [],
   "source": [
    "#https://matplotlib.org/stable/api/_as_gen/matplotlib.pyplot.gca.html\n",
    "ax=plt.gca()\n",
    "CleanedUpCoreData.plot(x='Depth',y='TOC',marker=\"v\",color='red',kind='scatter',label='test',ax=ax)\n",
    "CleanedUpCoreData.plot(x='Depth',y='Quartz',marker=\"v\",kind='scatter',label='test',ax=ax)"
   ]
  },
  {
   "cell_type": "code",
   "execution_count": null,
   "metadata": {},
   "outputs": [],
   "source": [
    "x= CleanedUpCoreData['Depth']\n",
    "y=CleanedUpCoreData['TOC']\n",
    "z=CleanedUpCoreData['Quartz']\n",
    "z1=CleanedUpCoreData['Calcite']\n",
    "fig = plt.figure()\n",
    "ax = fig.add_subplot(projection='3d')\n",
    "ax.scatter(x, y, z, marker=\"v\",color='red')\n",
    "ax.scatter(x, y, z1, marker=\"v\")"
   ]
  },
  {
   "cell_type": "markdown",
   "metadata": {},
   "source": [
    "Marker Types:\n",
    "https://matplotlib.org/stable/api/markers_api.html"
   ]
  },
  {
   "cell_type": "code",
   "execution_count": null,
   "metadata": {},
   "outputs": [],
   "source": [
    "# Set the width and height of the figure\n",
    "plt.figure(figsize=(10,6))\n",
    "\n",
    "# Add title\n",
    "plt.title(\"Porosity as a function of Depth\")\n",
    "\n",
    "sns.scatterplot(x=CleanedUpCoreData['Depth'],y=CleanedUpCoreData['CorrectedPorosity'])\n",
    "\n",
    "# Add label for vertical axis\n",
    "plt.ylabel(\"Corrected Porosity\")\n",
    "\n",
    "plt.xticks(rotation=45)"
   ]
  },
  {
   "cell_type": "code",
   "execution_count": null,
   "metadata": {},
   "outputs": [],
   "source": [
    "x=CleanedUpCoreData['Depth']\n",
    "y=CleanedUpCoreData['CorrectedPorosity']\n",
    "\n",
    "plt.plot(x,y)\n",
    "plt.show()"
   ]
  },
  {
   "cell_type": "code",
   "execution_count": null,
   "metadata": {},
   "outputs": [],
   "source": [
    "CleanedUpCoreData.plot(x='Depth',y='CorrectedPorosity',kind='scatter')\n",
    "plt.ylabel('CorrectedPorosity')"
   ]
  },
  {
   "cell_type": "markdown",
   "metadata": {},
   "source": [
    "Primer Ejercio:\n",
    "Usando este set de datos, crea 2 visualizaciones. \n",
    "1) Crea un scatter plot con Depth as x, y Calcite as y con el marker que se llama \"tri_left\" que sea del color violeta (purple). Con esta visualización, los x ticks deben de estar rotated a 45 grados y los y ticks a 90 grados. Cambia el color de los x ticks que sea rojo y los y ticks que sean azul. Agrega una leyenda que se llame \"test\" y ponga que el size del plot sea 14,10. Finalmente, ponle un titulo a la visualización. \n",
    "\n",
    "2) Crea un scatter plot 3D donde el x es depth, y es TOC, Z1 es Corrected Porosity y Z2 el Calcite. El scatter plot va a tener 2 scatter lines en el 3D projection. La linea de Z1 debe ser verde y la linea de Z2 debe de ser azul. Rotate todo los x and y ticks a 45 grados y cambia el color de los ticks a azul. Ponle titulo al plot (Cualquier titulo). "
   ]
  },
  {
   "cell_type": "code",
   "execution_count": null,
   "metadata": {},
   "outputs": [],
   "source": [
    "#Answer for number 1\n",
    "plt.figure(figsize=(14,10))\n",
    "x=CleanedUpCoreData['Depth']\n",
    "y=CleanedUpCoreData['Calcite']\n",
    "plt.scatter(x,y,marker=\"3\",color='purple',label='test')\n",
    "plt.xticks(rotation = 45)\n",
    "plt.yticks(rotation = 90)\n",
    "plt.tick_params(axis='x', colors='red')\n",
    "plt.tick_params(axis='y', colors='blue')\n",
    "plt.legend()\n",
    "plt.title('New Visualization')"
   ]
  },
  {
   "cell_type": "code",
   "execution_count": null,
   "metadata": {},
   "outputs": [],
   "source": [
    "#Answer for number 2\n",
    "x=CleanedUpCoreData['Depth']\n",
    "y=CleanedUpCoreData['TOC']\n",
    "z1=CleanedUpCoreData['CorrectedPorosity']\n",
    "z2=CleanedUpCoreData['Calcite']\n",
    "fig = plt.figure()\n",
    "ax = fig.add_subplot(projection='3d')\n",
    "ax.scatter(x, y, z1, color='green')\n",
    "ax.scatter(x, y, z2, color='blue')\n",
    "plt.xticks(rotation = 45)\n",
    "plt.yticks(rotation = 45)\n",
    "plt.title('Test')"
   ]
  },
  {
   "cell_type": "code",
   "execution_count": null,
   "metadata": {},
   "outputs": [],
   "source": [
    "iris_data = sns.load_dataset(\"iris\")\n",
    "iris.head()"
   ]
  },
  {
   "cell_type": "code",
   "execution_count": 42,
   "metadata": {},
   "outputs": [
    {
     "data": {
      "text/plain": [
       "<matplotlib.axes._subplots.AxesSubplot at 0x7fda609433d0>"
      ]
     },
     "execution_count": 42,
     "metadata": {},
     "output_type": "execute_result"
    },
    {
     "data": {
      "image/png": "[encoded data removed]",
      "text/plain": [
       "<Figure size 432x288 with 1 Axes>"
      ]
     },
     "metadata": {
      "needs_background": "light"
     },
     "output_type": "display_data"
    }
   ],
   "source": [
    "sns.distplot(iris_data['petal_length'])\n",
    "sns.kdeplot(data=iris_data['petal_length'],shade=True)"
   ]
  },
  {
   "cell_type": "code",
   "execution_count": null,
   "metadata": {},
   "outputs": [],
   "source": [
    "sns.jointplot(x=iris_data['petal_length'], y=iris_data['sepal_width'], kind=\"kde\")"
   ]
  },
  {
   "cell_type": "code",
   "execution_count": null,
   "metadata": {},
   "outputs": [],
   "source": [
    "sns.jointplot(x=iris_data['petal_length'], y=iris_data['sepal_width'])"
   ]
  },
  {
   "cell_type": "code",
   "execution_count": null,
   "metadata": {},
   "outputs": [],
   "source": [
    "# Histograms for each species\n",
    "sns.distplot(a=iris_data['petal_length'], label=\"length\", kde=False)\n",
    "sns.distplot(a=iris_data['sepal_length'], label=\"length\", kde=False)\n",
    "sns.distplot(a=iris_data['sepal_width'], label=\"width\", kde=False)\n",
    "\n",
    "# Add title\n",
    "plt.title(\"Hist Plots\")\n",
    "\n",
    "# Force legend to appear\n",
    "plt.legend()"
   ]
  },
  {
   "cell_type": "code",
   "execution_count": null,
   "metadata": {},
   "outputs": [],
   "source": [
    "# KDE plots for each species\n",
    "sns.kdeplot(data=iris_data['petal_length'], label=\"length\", shade=True)\n",
    "sns.kdeplot(data=iris_data['sepal_length'], label=\"sepal_length\", shade=True)\n",
    "sns.kdeplot(data=iris_data['sepal_width'], label=\"sepal_width\", shade=True)\n",
    "\n",
    "# Add title\n",
    "plt.title(\"KDE Plots\")"
   ]
  },
  {
   "cell_type": "code",
   "execution_count": null,
   "metadata": {},
   "outputs": [],
   "source": [
    "sns.relplot(\n",
    "    data=iris_data,\n",
    "    x=\"petal_length\", y=\"sepal_length\", hue=\"sepal_width\"\n",
    ")"
   ]
  },
  {
   "cell_type": "code",
   "execution_count": null,
   "metadata": {},
   "outputs": [],
   "source": [
    "sns.pairplot(data=iris_data,hue='species')"
   ]
  },
  {
   "cell_type": "markdown",
   "metadata": {},
   "source": [
    "Ejercicio #2\n",
    "Crea un kde plot y un histogram plot (usando seaborn) en un plot usando el set de datos de \"planets\" donde tu x va ser \"mass\". El kde plot debe de ser color rojo y el distplot de color verde. Agregale el x and y axis titles (x= mass, y = count) y un titule (title = Planet Dataset Mass)."
   ]
  },
  {
   "cell_type": "code",
   "execution_count": 49,
   "metadata": {},
   "outputs": [
    {
     "data": {
      "text/plain": [
       "<matplotlib.axes._subplots.AxesSubplot at 0x7fda60ed8cd0>"
      ]
     },
     "execution_count": 49,
     "metadata": {},
     "output_type": "execute_result"
    },
    {
     "data": {
      "image/png": "[encoded data removed]",
      "text/plain": [
       "<Figure size 432x288 with 1 Axes>"
      ]
     },
     "metadata": {
      "needs_background": "light"
     },
     "output_type": "display_data"
    }
   ],
   "source": [
    "planets = sns.load_dataset(\"planets\")\n",
    "planets.head()\n",
    "sns.distplot(planets['mass'],color='green')\n",
    "sns.kdeplot(data=planets['mass'],shade=True,color='red')\n",
    "plt.xlabel('mass')\n"
   ]
  },
  {
   "cell_type": "code",
   "execution_count": null,
   "metadata": {},
   "outputs": [],
   "source": []
  }
 ],
 "metadata": {
  "kernelspec": {
   "display_name": "Python 3",
   "language": "python",
   "name": "python3"
  },
  "language_info": {
   "codemirror_mode": {
    "name": "ipython",
    "version": 3
   },
   "file_extension": ".py",
   "mimetype": "text/x-python",
   "name": "python",
   "nbconvert_exporter": "python",
   "pygments_lexer": "ipython3",
   "version": "3.8.3"
  }
 },
 "nbformat": 4,
 "nbformat_minor": 4
}
