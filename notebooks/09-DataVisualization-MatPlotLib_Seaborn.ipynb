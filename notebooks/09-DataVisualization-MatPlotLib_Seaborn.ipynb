{
 "cells": [
  {
   "cell_type": "markdown",
   "metadata": {},
   "source": [
    "En este notebook, vamos a empezar a visualizar datos con matplotlib y seaborn. Empezamos con subir los paquetes que vamos a necesitar. Solo necesitamos 3 por hoy :)"
   ]
  },
  {
   "cell_type": "code",
   "execution_count": null,
   "metadata": {},
   "outputs": [],
   "source": [
    "import seaborn as sns\n",
    "import matplotlib.pyplot as plt\n",
    "import numpy as np "
   ]
  },
  {
   "cell_type": "markdown",
   "metadata": {},
   "source": [
    "Para matplotlib, el \"set de datos\" vamos a crear usando la funcion de linspace de numpy. "
   ]
  },
  {
   "cell_type": "code",
   "execution_count": null,
   "metadata": {},
   "outputs": [],
   "source": [
    "# Prepare the data\n",
    "x = np.linspace(1, 10, 100) \n",
    "y = np.linspace(0,100,100)"
   ]
  },
  {
   "cell_type": "code",
   "execution_count": null,
   "metadata": {},
   "outputs": [],
   "source": [
    "print(x)"
   ]
  },
  {
   "cell_type": "markdown",
   "metadata": {},
   "source": [
    "Empezamos con plotear usando matplotlib. Esto no tiene titulos para los ejes. Vamos a estar viendo como agregar eso, pero por ahora, tambien vamos a ver como agregar otra linea en el plot. "
   ]
  },
  {
   "cell_type": "code",
   "execution_count": null,
   "metadata": {},
   "outputs": [],
   "source": [
    "# Plot the data\n",
    "plt.plot(x, x, label='linear') ####first line added to plot"
   ]
  },
  {
   "cell_type": "code",
   "execution_count": null,
   "metadata": {},
   "outputs": [],
   "source": [
    "plt.plot(x, x, color=\"green\",linewidth=2.5, linestyle=\"-\", label='linear') ####first line added to plot\n",
    "plt.plot(x, y, 'ro', markersize=2,label='linear') ##### second line added to plot"
   ]
  },
  {
   "cell_type": "code",
   "execution_count": null,
   "metadata": {},
   "outputs": [],
   "source": [
    "plt.plot(x, x, label='linear') ####first line added to plot\n",
    "plt.plot(x, y, 'ro', markersize=2,label='linear') ##### second line added to plot\n",
    "plt.xlabel('Quien Sabe') #this adds the xlabel\n",
    "plt.ylabel('Make it up :) ') #this adds the ylabel\n",
    "plt.title('GeoLatinas Coding Group') # this adds the title\n",
    "plt.legend() #this adds legend"
   ]
  },
  {
   "cell_type": "markdown",
   "metadata": {},
   "source": [
    "Ahora tenemos un plot con titulos para los ejes, pero tambien podemos usar plt.xticks to rotate tick markers."
   ]
  },
  {
   "cell_type": "code",
   "execution_count": null,
   "metadata": {},
   "outputs": [],
   "source": [
    "plt.plot(x, x, label='linear') ####first line added to plot\n",
    "plt.plot(x, y, 'ro', markersize=2,label='linear') ##### second line added to plot\n",
    "plt.xlabel('Quien Sabe') #this adds the xlabel\n",
    "plt.ylabel('Make it up :) ') #this adds the ylabel\n",
    "plt.title('GeoLatinas Coding Group') # this adds the title\n",
    "plt.legend() #this adds legend\n",
    "plt.xticks(rotation = 45) #rotates the x tick values by 45 degrees"
   ]
  },
  {
   "cell_type": "markdown",
   "metadata": {},
   "source": [
    "Si quieres limitar los ejes, puedes usar xlim y ylim"
   ]
  },
  {
   "cell_type": "code",
   "execution_count": 99,
   "metadata": {},
   "outputs": [
    {
     "ename": "AttributeError",
     "evalue": "module 'matplotlib.pyplot' has no attribute 'xaxis'",
     "output_type": "error",
     "traceback": [
      "\u001b[0;31m---------------------------------------------------------------------------\u001b[0m",
      "\u001b[0;31mAttributeError\u001b[0m                            Traceback (most recent call last)",
      "\u001b[0;32m<ipython-input-99-18e741110568>\u001b[0m in \u001b[0;36m<module>\u001b[0;34m\u001b[0m\n\u001b[1;32m      8\u001b[0m \u001b[0mplt\u001b[0m\u001b[0;34m.\u001b[0m\u001b[0mxlim\u001b[0m\u001b[0;34m(\u001b[0m\u001b[0;36m0\u001b[0m\u001b[0;34m,\u001b[0m\u001b[0;36m4\u001b[0m\u001b[0;34m)\u001b[0m\u001b[0;34m\u001b[0m\u001b[0;34m\u001b[0m\u001b[0m\n\u001b[1;32m      9\u001b[0m \u001b[0mplt\u001b[0m\u001b[0;34m.\u001b[0m\u001b[0mylim\u001b[0m\u001b[0;34m(\u001b[0m\u001b[0;36m0\u001b[0m\u001b[0;34m,\u001b[0m\u001b[0;36m4\u001b[0m\u001b[0;34m)\u001b[0m\u001b[0;34m\u001b[0m\u001b[0;34m\u001b[0m\u001b[0m\n\u001b[0;32m---> 10\u001b[0;31m \u001b[0mplt\u001b[0m\u001b[0;34m.\u001b[0m\u001b[0mxaxis\u001b[0m\u001b[0;34m.\u001b[0m\u001b[0mlabel\u001b[0m\u001b[0;34m.\u001b[0m\u001b[0mset_color\u001b[0m\u001b[0;34m(\u001b[0m\u001b[0;34m'red'\u001b[0m\u001b[0;34m)\u001b[0m\u001b[0;34m\u001b[0m\u001b[0;34m\u001b[0m\u001b[0m\n\u001b[0m\u001b[1;32m     11\u001b[0m \u001b[0mplt\u001b[0m\u001b[0;34m.\u001b[0m\u001b[0mtick_params\u001b[0m\u001b[0;34m(\u001b[0m\u001b[0maxis\u001b[0m\u001b[0;34m=\u001b[0m\u001b[0;34m'x'\u001b[0m\u001b[0;34m,\u001b[0m \u001b[0mcolors\u001b[0m\u001b[0;34m=\u001b[0m\u001b[0;34m'red'\u001b[0m\u001b[0;34m)\u001b[0m\u001b[0;34m\u001b[0m\u001b[0;34m\u001b[0m\u001b[0m\n",
      "\u001b[0;31mAttributeError\u001b[0m: module 'matplotlib.pyplot' has no attribute 'xaxis'"
     ]
    },
    {
     "data": {
      "image/png": "[encoded data removed]",
      "text/plain": [
       "<Figure size 432x288 with 1 Axes>"
      ]
     },
     "metadata": {
      "needs_background": "light"
     },
     "output_type": "display_data"
    }
   ],
   "source": [
    "plt.plot(x, x, label='linear') ####first line added to plot\n",
    "plt.plot(x, y, 'ro', markersize=3,label='linear') ##### second line added to plot\n",
    "plt.xlabel('Quien Sabe') #this adds the xlabel\n",
    "plt.ylabel('Make it up :) ') #this adds the ylabel\n",
    "plt.title('GeoLatinas Coding Group') # this adds the title\n",
    "plt.legend() #this adds legend\n",
    "plt.xticks(rotation = 45) #rotates the x tick values by 45 degrees\n",
    "plt.xlim(0,4)\n",
    "plt.ylim(0,4)\n",
    "plt.xaxis.label.set_color('red')\n",
    "plt.tick_params(axis='x', colors='red')"
   ]
  },
  {
   "cell_type": "markdown",
   "metadata": {},
   "source": [
    "Ahora vamos hacer una transición a seaborn"
   ]
  },
  {
   "cell_type": "code",
   "execution_count": null,
   "metadata": {},
   "outputs": [],
   "source": [
    "iris = sns.load_dataset(\"iris\") #seaborn has several prebuilt datasets to work with\n",
    "iris.head() #by default, prints the first 5 rows in a dataset"
   ]
  },
  {
   "cell_type": "code",
   "execution_count": null,
   "metadata": {},
   "outputs": [],
   "source": [
    "iris.describe() #descriptive statistics"
   ]
  },
  {
   "cell_type": "markdown",
   "metadata": {},
   "source": [
    "Empezamos con ver la visualizacion del dataset completo"
   ]
  },
  {
   "cell_type": "code",
   "execution_count": null,
   "metadata": {},
   "outputs": [],
   "source": [
    "sns.pairplot(iris) #visualization of entire dataset"
   ]
  },
  {
   "cell_type": "code",
   "execution_count": null,
   "metadata": {},
   "outputs": [],
   "source": [
    "sns.swarmplot(x=\"species\",y=\"petal_length\",data=iris)\n",
    "#plt.xticks(rotation=45)\n",
    "#plt.xlabel('species',rotation=45)"
   ]
  },
  {
   "cell_type": "code",
   "execution_count": null,
   "metadata": {},
   "outputs": [],
   "source": [
    "sns.barplot(x=\"species\",y=\"petal_length\",data=iris)"
   ]
  },
  {
   "cell_type": "code",
   "execution_count": null,
   "metadata": {},
   "outputs": [],
   "source": [
    "sns.boxplot(x=\"species\",y=\"petal_length\",data=iris)"
   ]
  },
  {
   "cell_type": "code",
   "execution_count": null,
   "metadata": {},
   "outputs": [],
   "source": [
    "sns.lmplot(x=\"species\",y=\"petal_length\",data=iris,fit_reg=False,hue='species')"
   ]
  },
  {
   "cell_type": "markdown",
   "metadata": {},
   "source": [
    "https://github.com/mwaskom/seaborn-data\n",
    "Ejercicio 1: Usa el planets dataset y crea un boxplot con x = method, y = year. En la ejes x, rotate los ticks a 90 grados y en la ejes y, rotate los ticks a 45 grados.  \n",
    "    "
   ]
  },
  {
   "cell_type": "code",
   "execution_count": null,
   "metadata": {},
   "outputs": [],
   "source": [
    "planets = sns.load_dataset(\"planets\")\n",
    "planets.head()\n",
    "sns.boxplot(x=\"method\",y=\"year\",data=planets)\n",
    "plt.xticks(rotation = 90)\n",
    "plt.yticks(rotation = 45)"
   ]
  },
  {
   "cell_type": "markdown",
   "metadata": {},
   "source": [
    "Ejercicio 2: Usa el car_crashes dataset de seaborn para graficar un lmplot usando x= alcohol, y = speeding. Cambia el nombre del ejes x a Alcohol Consumption, y \"y\" a Speeding. "
   ]
  },
  {
   "cell_type": "code",
   "execution_count": null,
   "metadata": {},
   "outputs": [],
   "source": [
    "car_crashes = sns.load_dataset(\"car_crashes\")\n",
    "car_crashes.head()"
   ]
  },
  {
   "cell_type": "code",
   "execution_count": null,
   "metadata": {},
   "outputs": [],
   "source": [
    "sns.lmplot(x=\"alcohol\",y=\"speeding\",data=car_crashes)\n",
    "plt.xlabel('Alcohol Consumption')\n",
    "plt.ylabel('Speeding')"
   ]
  }
 ],
 "metadata": {
  "kernelspec": {
   "display_name": "Python 3",
   "language": "python",
   "name": "python3"
  },
  "language_info": {
   "codemirror_mode": {
    "name": "ipython",
    "version": 3
   },
   "file_extension": ".py",
   "mimetype": "text/x-python",
   "name": "python",
   "nbconvert_exporter": "python",
   "pygments_lexer": "ipython3",
   "version": "3.8.3"
  }
 },
 "nbformat": 4,
 "nbformat_minor": 4
}
