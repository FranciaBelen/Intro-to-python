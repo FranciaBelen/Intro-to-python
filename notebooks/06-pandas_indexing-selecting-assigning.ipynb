{
 "cells": [
  {
   "cell_type": "markdown",
   "metadata": {},
   "source": [
    "# Librerías: Pandas\n",
    "\n",
    "https://pandas.pydata.org/\n",
    "\n",
    "El contenido de este tutorial está basado y fue adaptado del curso de pandas de Kaggle disponible en https://www.kaggle.com/learn/pandas\n",
    "\n",
    "mismo que tiene licencia open source Apache 2.0 http://www.apache.org/licenses/LICENSE-2.0\n",
    "\n",
    "\n",
    "\n",
    "### En esta parte vamos a aprender cómo seleccionar datos específicos del dataframe"
   ]
  },
  {
   "cell_type": "markdown",
   "metadata": {},
   "source": [
    "Comenzamos importando la librería y cargando el archivo que vamos a trabajar"
   ]
  },
  {
   "cell_type": "code",
   "execution_count": null,
   "metadata": {
    "_kg_hide-input": true
   },
   "outputs": [],
   "source": [
    "\n",
    "import pandas as pd\n",
    "from pathlib import Path \n",
    "data_folder = Path(\"..\") / \"data\"\n",
    "wine_reviews_file = data_folder /\"winemag-data-130k-v2.csv\"\n",
    "reviews = pd.read_csv(wine_reviews_file,index_col=0)\n",
    "\n",
    "pd.set_option('max_rows', 5) # Esto para qué es?"
   ]
  },
  {
   "cell_type": "markdown",
   "metadata": {},
   "source": [
    "## Accesos nativos"
   ]
  },
  {
   "cell_type": "code",
   "execution_count": null,
   "metadata": {},
   "outputs": [],
   "source": [
    "reviews"
   ]
  },
  {
   "cell_type": "markdown",
   "metadata": {},
   "source": [
    "Por ejemplo si quiero acceder a la propiedad `country` del dataframe `reviews` se puede usar esta notación:"
   ]
  },
  {
   "cell_type": "code",
   "execution_count": null,
   "metadata": {},
   "outputs": [],
   "source": [
    "reviews.country\n"
   ]
  },
  {
   "cell_type": "markdown",
   "metadata": {},
   "source": [
    "Pero también podemos accesar usando el operador índice (`[]`):"
   ]
  },
  {
   "cell_type": "code",
   "execution_count": null,
   "metadata": {},
   "outputs": [],
   "source": [
    "reviews['country']"
   ]
  },
  {
   "cell_type": "markdown",
   "metadata": {},
   "source": [
    "Ambas son dos formas de seleccionar series de un DataFrame, ambas válidas, sin embargo el operador `[]` permite más flexibilidad en el nombre de las columnas, pudiendo usar caracteres reservados (e.g.  si tuviéramos una columna llamada `country providence` la notación de propiedad `reviews.country providence` no funciona.\n",
    "\n",
    "### Seleccionar un elemento aún más específico\n",
    "Podemos usar nuevamente la notación de índice, inmediatamente después de haber seleccionado la columna"
   ]
  },
  {
   "cell_type": "code",
   "execution_count": null,
   "metadata": {},
   "outputs": [],
   "source": [
    "reviews['country'][0]"
   ]
  },
  {
   "cell_type": "code",
   "execution_count": null,
   "metadata": {},
   "outputs": [],
   "source": [
    "reviews.country[0]\n"
   ]
  },
  {
   "cell_type": "markdown",
   "metadata": {},
   "source": [
    "## Indexing propio de pandas\n",
    "\n",
    "Pandas tiene sus propios operadores de acceso `loc` and `iloc`. Ambos son primero renglón y luego columna (OJO! En python \"nativo\" es al revés!) Se supone que es mejor usar esto para operaciones más avanzadas.\n",
    "\n",
    "### Selección basada en índice\n",
    "\n",
    "Consiste en seleccionar datos basados en su posición numérica en el set de datos y se usa `iloc`.\n",
    "Trata al dataframe como si fuera una matriz y buscas los elementos usando su posición.\n",
    "\n",
    "Por ejemplo, para seleccionar el primer renglón en un DataFrame:"
   ]
  },
  {
   "cell_type": "code",
   "execution_count": null,
   "metadata": {},
   "outputs": [],
   "source": [
    "reviews.iloc[0]"
   ]
  },
  {
   "cell_type": "markdown",
   "metadata": {},
   "source": [
    "\n",
    "\n",
    "Para obtener una columna con `iloc`:"
   ]
  },
  {
   "cell_type": "code",
   "execution_count": null,
   "metadata": {},
   "outputs": [],
   "source": [
    "reviews.iloc[:, 0]"
   ]
  },
  {
   "cell_type": "markdown",
   "metadata": {},
   "source": [
    "El operador  `:` significa \"todo\" y también en combinación con otro código sirve para establecer un range de valores. Por ejemplo para seleccionar los renglones primero, segundo y tercero:"
   ]
  },
  {
   "cell_type": "code",
   "execution_count": null,
   "metadata": {},
   "outputs": [],
   "source": [
    "reviews.iloc[:3, 0]"
   ]
  },
  {
   "cell_type": "markdown",
   "metadata": {},
   "source": [
    "O seleccionando el segundo y el tercero:"
   ]
  },
  {
   "cell_type": "code",
   "execution_count": null,
   "metadata": {},
   "outputs": [],
   "source": [
    "reviews.iloc[1:3, 0]"
   ]
  },
  {
   "cell_type": "markdown",
   "metadata": {},
   "source": [
    "O también podemos indicarle qué renglones queremos mediante una lista:"
   ]
  },
  {
   "cell_type": "code",
   "execution_count": null,
   "metadata": {},
   "outputs": [],
   "source": [
    "reviews.iloc[[0, 1, 2], 0]"
   ]
  },
  {
   "cell_type": "markdown",
   "metadata": {},
   "source": [
    "O también los últimos 5 renglones:"
   ]
  },
  {
   "cell_type": "code",
   "execution_count": null,
   "metadata": {},
   "outputs": [],
   "source": [
    "reviews.iloc[-5:]"
   ]
  },
  {
   "cell_type": "markdown",
   "metadata": {},
   "source": [
    "### 2. Selección basada en etiqueta\n",
    "\n",
    "Con el operador `loc` es la etiqueta del índice y no la posición numérica lo que importa.\n",
    "Por ejemplo, para obtener la primer entrada en `reviews`, hacemos lo siguiente:"
   ]
  },
  {
   "cell_type": "code",
   "execution_count": null,
   "metadata": {},
   "outputs": [],
   "source": [
    "reviews.loc[0,'country']"
   ]
  },
  {
   "cell_type": "code",
   "execution_count": null,
   "metadata": {},
   "outputs": [],
   "source": [
    "reviews.head()"
   ]
  },
  {
   "cell_type": "code",
   "execution_count": null,
   "metadata": {},
   "outputs": [],
   "source": [
    "reviews.loc[:, ['taster_name', 'taster_twitter_handle', 'points']]"
   ]
  },
  {
   "cell_type": "markdown",
   "metadata": {},
   "source": [
    "### Eligiendo entre `loc` e `iloc`\n",
    "\n",
    "\n",
    "\n",
    "`iloc` usa el esquema de indexing Python *stdlib*, donde el primer elemento del rango es incluido y el último es excluido. Ejemplo `0:10` selecciona  `0,...,9`. En cambio `loc`, indexa de forma \"inclusiva\" así que `0:10` seleccionará `0,...,10`.\n",
    "\n",
    "Si tenemos un dataframe con un indice que es una lista de  `0,...,1000`, al usar `df.iloc[0:1000]`nos regresará 1000 elementos, mientras que `df.loc[0:1000]` regresa 1001! Así que para tener 1000 elementos usando `loc`, se necesita colocar `df.loc[0:999]`. \n"
   ]
  },
  {
   "cell_type": "markdown",
   "metadata": {},
   "source": [
    "## Manipulando el índice\n",
    "\n",
    "La selección basada en etiquetas es poderosa debido a las etiquetas de los índices. El cuán podemos manipular acorde a nuestras necesidades.\n",
    "\n",
    "Por ejemplo con el método `set_index()` podemos lograr lo siguiete:"
   ]
  },
  {
   "cell_type": "code",
   "execution_count": null,
   "metadata": {},
   "outputs": [],
   "source": [
    "reviews.set_index(\"title\")"
   ]
  },
  {
   "cell_type": "markdown",
   "metadata": {},
   "source": [
    "# Selección condicional\n",
    "\n",
    "Ahora, vamos a preguntarnos por selección basada en condiciones que cumplan los datos.\n",
    "\n",
    "Si queremos vinos producidos en Italia que sean mejores que el promedio ¿qué hacemos?\n",
    "\n",
    "Podemos empezar checando si un vino es Italiano o no:"
   ]
  },
  {
   "cell_type": "code",
   "execution_count": null,
   "metadata": {},
   "outputs": [],
   "source": [
    "reviews.country == 'Italy'"
   ]
  },
  {
   "cell_type": "markdown",
   "metadata": {},
   "source": [
    "Con esta operación obtenemos una serie de `Verdaderos`/`Falsos` basados en la columna `country`. Esto, se puede usar dentro de loc, para obtener la información que queremos:"
   ]
  },
  {
   "cell_type": "code",
   "execution_count": null,
   "metadata": {},
   "outputs": [],
   "source": [
    "vinos_italianos=reviews.loc[reviews.country == 'Italy']\n",
    "vinos_italianos"
   ]
  },
  {
   "cell_type": "markdown",
   "metadata": {},
   "source": [
    "Si comparamos cuántos vinos Italianos hay respecto al total de los vinos del Dataframe original tenemos que:"
   ]
  },
  {
   "cell_type": "code",
   "execution_count": null,
   "metadata": {},
   "outputs": [],
   "source": [
    "porcentaje_vinos_italianos = len(vinos_italianos)*100/len(reviews)"
   ]
  },
  {
   "cell_type": "markdown",
   "metadata": {},
   "source": [
    "\n",
    "\n",
    "Ahora bien, como los vinos se califican en una escala de 80 a 100, queremos saber cuáles tienen una calificación arriba de al menos 90 puntos. \n",
    "Usando la letra ampersand (`&`) unimos ambas condiciones:\n",
    "\n"
   ]
  },
  {
   "cell_type": "code",
   "execution_count": null,
   "metadata": {},
   "outputs": [],
   "source": [
    "reviews.loc[(reviews.country == 'Italy') & (reviews.points >= 90)]"
   ]
  },
  {
   "cell_type": "markdown",
   "metadata": {},
   "source": [
    "Si ahora quisiéramos que se cumpliera alguna de las dos condiciones, es decir que sea Italiano o que tenga un puntaje arriba de 90 usamos este símbolo (`|`):"
   ]
  },
  {
   "cell_type": "code",
   "execution_count": null,
   "metadata": {},
   "outputs": [],
   "source": [
    "reviews.loc[(reviews.country == 'Italy') | (reviews.points >= 90)]"
   ]
  },
  {
   "cell_type": "markdown",
   "metadata": {},
   "source": [
    "## Selectores condicionales `isin`, `isnull`,`not null`\n",
    "\n",
    "`isin` te permite seleccionar datos que estan dentro \"Is in\" de una lista de valores, por ejemplo, queremos seleccionar vinos que sean o de Italia o de Francia"
   ]
  },
  {
   "cell_type": "code",
   "execution_count": null,
   "metadata": {},
   "outputs": [],
   "source": [
    "reviews.loc[reviews.country.isin(['Italy', 'France'])]"
   ]
  },
  {
   "cell_type": "markdown",
   "metadata": {},
   "source": [
    "`isnull` y `notnull`te permitirán seleccionar valores que son o no son vacíos `NaN`. Por ejemplo, para filtrar vinos que carecen de una etiqueta de precio"
   ]
  },
  {
   "cell_type": "code",
   "execution_count": null,
   "metadata": {},
   "outputs": [],
   "source": [
    "reviews.loc[reviews.price.notnull()]"
   ]
  },
  {
   "cell_type": "markdown",
   "metadata": {},
   "source": [
    "# Asignar datos a a un dataframe\n",
    "\n",
    "Going the other way, assigning data to a DataFrame is easy. You can assign either a constant value:"
   ]
  },
  {
   "cell_type": "code",
   "execution_count": null,
   "metadata": {},
   "outputs": [],
   "source": [
    "reviews['critic'] = 'everyone'\n",
    "reviews['critic']\n"
   ]
  },
  {
   "cell_type": "markdown",
   "metadata": {},
   "source": [
    "Or with an iterable of values:"
   ]
  },
  {
   "cell_type": "code",
   "execution_count": null,
   "metadata": {},
   "outputs": [],
   "source": [
    "reviews['index_backwards'] = range(len(reviews), 0, -1)\n",
    "reviews['index_backwards']\n"
   ]
  },
  {
   "cell_type": "markdown",
   "metadata": {},
   "source": [
    "# Tu turno!!\n",
    "\n"
   ]
  }
 ],
 "metadata": {
  "kernelspec": {
   "display_name": "Python 3",
   "language": "python",
   "name": "python3"
  },
  "language_info": {
   "codemirror_mode": {
    "name": "ipython",
    "version": 3
   },
   "file_extension": ".py",
   "mimetype": "text/x-python",
   "name": "python",
   "nbconvert_exporter": "python",
   "pygments_lexer": "ipython3",
   "version": "3.8.5"
  }
 },
 "nbformat": 4,
 "nbformat_minor": 4
}
