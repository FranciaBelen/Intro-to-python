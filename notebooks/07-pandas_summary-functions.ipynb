{
 "cells": [
  {
   "cell_type": "markdown",
   "metadata": {},
   "source": [
    "# Librerías: Pandas\n",
    "\n",
    "https://pandas.pydata.org/\n",
    "\n",
    "El contenido de este tutorial está basado y fue adaptado del curso de pandas de Kaggle disponible en https://www.kaggle.com/learn/pandas\n",
    "\n",
    "mismo que tiene licencia open source Apache 2.0 http://www.apache.org/licenses/LICENSE-2.0\n",
    "\n",
    "\n",
    "\n",
    "### En esta parte vamos a aprender de las funciones describe, mean, unique, value_counts e idxmax"
   ]
  },
  {
   "cell_type": "markdown",
   "metadata": {},
   "source": [
    "# Summary functions\n"
   ]
  },
  {
   "cell_type": "code",
   "execution_count": null,
   "metadata": {
    "_kg_hide-input": true
   },
   "outputs": [],
   "source": [
    "\n",
    "import pandas as pd\n",
    "from pathlib import Path \n",
    "data_folder = Path(\"..\") / \"data\"\n",
    "wine_reviews_file = data_folder /\"winemag-data-130k-v2.csv\"\n",
    "reviews = pd.read_csv(wine_reviews_file,index_col=0)\n",
    "\n"
   ]
  },
  {
   "cell_type": "code",
   "execution_count": null,
   "metadata": {},
   "outputs": [],
   "source": [
    "reviews"
   ]
  },
  {
   "cell_type": "code",
   "execution_count": null,
   "metadata": {},
   "outputs": [],
   "source": [
    "reviews.points.describe()"
   ]
  },
  {
   "cell_type": "markdown",
   "metadata": {},
   "source": [
    "Este método genera un resumen de alto nivel de los atributos de la columna dada. Es consciente de los tipos, lo que significa que su salida cambia según el tipo de datos de la entrada. La salida anterior solo tiene sentido para datos numéricos; para datos de cadena, esto es lo que obtenemos:"
   ]
  },
  {
   "cell_type": "code",
   "execution_count": null,
   "metadata": {},
   "outputs": [],
   "source": [
    "reviews.taster_name.describe()"
   ]
  },
  {
   "cell_type": "markdown",
   "metadata": {},
   "source": [
    "Si desea obtener una estadística de resumen simple en particular sobre una columna en un DataFrame o una Serie, generalmente hay una función de pandas útil que lo hace posible.\n",
    "\n",
    "Por ejemplo, para ver la media de los puntos asignados (por ejemplo, qué tan bien le va a un vino con calificación promedio), podemos usar la función mean ():"
   ]
  },
  {
   "cell_type": "code",
   "execution_count": null,
   "metadata": {},
   "outputs": [],
   "source": [
    "reviews.points.mean()"
   ]
  },
  {
   "cell_type": "markdown",
   "metadata": {},
   "source": [
    "Para ver una lista de valores únicos, podemos usar la función `unique()` :"
   ]
  },
  {
   "cell_type": "code",
   "execution_count": null,
   "metadata": {},
   "outputs": [],
   "source": [
    "reviews.taster_name.unique()"
   ]
  },
  {
   "cell_type": "markdown",
   "metadata": {},
   "source": [
    "Para ver una lista de valores únicos y la frecuencia con la que ocurren en el conjunto de datos, podemos usar el método value_counts ():\n",
    "\n"
   ]
  },
  {
   "cell_type": "code",
   "execution_count": null,
   "metadata": {},
   "outputs": [],
   "source": [
    "reviews.taster_name.value_counts()"
   ]
  },
  {
   "cell_type": "markdown",
   "metadata": {},
   "source": [
    "Si queremos saber qué vinos están por debajo del promedio y cuáles por arriba, podríamos hacer lo siguiente:"
   ]
  },
  {
   "cell_type": "code",
   "execution_count": null,
   "metadata": {},
   "outputs": [],
   "source": [
    "#review_points_mean = reviews.points.mean()\n",
    "reviews['points']=reviews.points - reviews.points.mean()\n",
    "reviews"
   ]
  },
  {
   "cell_type": "markdown",
   "metadata": {},
   "source": [
    "En este código estamos realizando una operación entre muchos valores en el lado izquierdo (todo en la Serie) y un solo valor en el lado derecho (el valor medio). Pandas observa esta expresión y se da cuenta de que debemos intentar restar ese valor medio de cada valor en el conjunto de datos."
   ]
  },
  {
   "cell_type": "code",
   "execution_count": null,
   "metadata": {},
   "outputs": [],
   "source": [
    "precio_mas_caro = reviews.price.idxmax()\n",
    "vino_mas_caro = reviews.loc[precio_mas_caro, ['title','country']]\n",
    "vino_mas_caro"
   ]
  },
  {
   "cell_type": "markdown",
   "metadata": {},
   "source": [
    "# Tu turno!\n",
    "Ve a los ejercicios de la lesson 3 de Kaggle y practica con el 1, 2, 3, 4 y 5 :)"
   ]
  }
 ],
 "metadata": {
  "kernelspec": {
   "display_name": "Python 3",
   "language": "python",
   "name": "python3"
  },
  "language_info": {
   "codemirror_mode": {
    "name": "ipython",
    "version": 3
   },
   "file_extension": ".py",
   "mimetype": "text/x-python",
   "name": "python",
   "nbconvert_exporter": "python",
   "pygments_lexer": "ipython3",
   "version": "3.8.5"
  }
 },
 "nbformat": 4,
 "nbformat_minor": 4
}
